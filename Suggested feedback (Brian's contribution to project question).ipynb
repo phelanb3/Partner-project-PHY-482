{
 "cells": [
  {
   "cell_type": "markdown",
   "metadata": {},
   "source": [
    "**Brian Phelan**\n",
    "\n",
    "*20 April 2018*\n",
    "\n",
    "HW12"
   ]
  },
  {
   "cell_type": "markdown",
   "metadata": {},
   "source": [
    "# Problem 5:"
   ]
  },
  {
   "cell_type": "markdown",
   "metadata": {},
   "source": [
    "From my understanding of the project, Chris and I are attempting to model synchrotron radiation in several scenarios. One is under circular motion and the other is motion in an undulator.\n",
    "\n",
    "*For Brian:*\n",
    "\n",
    "So far I've been able to model the angular distribution of the power radiated by a charged particle undergoing circular motion. I've done this using a polar plot where I model the 2D projection of the power radiated as a function of the polar angle. I've also used a surface plot to see what this distribution looks like in 3D and I've included 2D projections to each one of the 3D plots. So far Chris has been able to model the mass dependency of the radiation produced by a particle, the radius dependency of radiation produced by a particle undergoing circular motion, and the time evolution of the energy of the particle that emits synchrotron radiation continuously. The feedback I hope to see is: What more can we include in order to get the bigger picture about synchrotron radiation? What type of physical dependencies have we yet to model (frequency dependencies, magnetic field dependencies, etc.) that would help the audience to gain greater insight to synchrotron radiation? Are there limits that we have yet to consider that could enhance our understanding (relativistic limits, limits on the magnetic field strength, etc.)? Of course this might require some understanding of the phenomena in order to answer these questions. I would also like to know if we've gone far enough to model this phenomena using *original* code or calculations? If not, how can we make this project more original?"
   ]
  }
 ],
 "metadata": {
  "kernelspec": {
   "display_name": "Python 2",
   "language": "python",
   "name": "python2"
  },
  "language_info": {
   "codemirror_mode": {
    "name": "ipython",
    "version": 2
   },
   "file_extension": ".py",
   "mimetype": "text/x-python",
   "name": "python",
   "nbconvert_exporter": "python",
   "pygments_lexer": "ipython2",
   "version": "2.7.13"
  }
 },
 "nbformat": 4,
 "nbformat_minor": 2
}
