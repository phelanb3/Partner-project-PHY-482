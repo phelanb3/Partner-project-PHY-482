{
 "cells": [
  {
   "cell_type": "markdown",
   "metadata": {},
   "source": [
    "Brian Phelan\n",
    "Chris Frey\n",
    "\n",
    "*23 March 2018*\n",
    "\n",
    "**HW7**"
   ]
  },
  {
   "cell_type": "markdown",
   "metadata": {},
   "source": [
    "# Problem 5:"
   ]
  },
  {
   "cell_type": "markdown",
   "metadata": {},
   "source": [
    "Our project requires a general understanding of synchrotron radiation. Since Chris’s previous project (the paper) was about this type of radiation he probably has a good general understanding of the phenomenon. However, I believe it would be wise for me to go through his paper and try and understand the phenomenon myself. The good thing is that he already has many sources for what synchrotron radiation is and these will be helpful to understand this topic. However, we will need to collect sources that outline various types of computational modeling, especially modeling the motion of a particle. \n",
    "\n",
    "We’ve done particle motion modeling in this class (PHY 482) but it was not very sophisticated and we would be interested in seeing if there are other ways to model the motion of particle that emits radiation. I would hope that we could find several ways to model synchrotron radiation (using our programming language of choice, probably Python), and compare these models side by side. It is possible that we could construct our own rudimentary way of modeling this phenomenon from scratch.\n",
    "\n",
    "To get even more sophisticated, if it turns out that our original setup of the model (initial conditions, fields present, etc.) is too simple, we could add certain perturbations to the model in order to make it more sophisticated. An idea would be to model synchrotron radiation for a real world situation although this might prove to be too complex for the scope of this project.\n",
    "\n",
    "**Timeline:**\n",
    "\n",
    "*Week 1:*\n",
    "\n",
    "--Research about Synchrotron radiation - Chris\n",
    "\n",
    "--Research about basic particle modeling - Both\n",
    "\n",
    "--Decide what language to develop with - Both\n",
    "\n",
    "\n",
    "*Week2 - Week3:*\n",
    "\n",
    "--Develop mathematical model and try to do work pre-programming that could make the programming process easier and more efficient (writing pseudocode) - Both\n",
    "\n",
    "--Start programing (might split up programming like the writing of functions or certain blocks, etc.) - Both\n",
    "\n",
    "--Catalogue all problems that come up and figure out how to fix them - Both\n",
    "\n",
    "--Are we missing equations, is this doable in our chosen programming language…\n",
    "\n",
    "\n",
    "*Week4:*\n",
    "\n",
    "--Finish programming - Both\n",
    "\n",
    "--Work on poster - Both\n",
    "\n",
    "\n",
    "*Week5:*\n",
    "\n",
    "--Finish poster\n",
    "\n",
    "--Develop Presentation and practice - Both\n",
    "\n",
    "\n",
    "Programming is collaborative so it is best if done by both of us. Same thing with constructing the poster. We can go more in depth about deciding which parts of the programs are a person's responsibility, however at this time we don’t know the exact structure of the program.\n",
    "\n",
    "*This HW problem was written in a first person perspective with Brian as the \"I\" but we both worked equally on this timeline and outline.*"
   ]
  }
 ],
 "metadata": {
  "kernelspec": {
   "display_name": "Python 2",
   "language": "python",
   "name": "python2"
  },
  "language_info": {
   "codemirror_mode": {
    "name": "ipython",
    "version": 2
   },
   "file_extension": ".py",
   "mimetype": "text/x-python",
   "name": "python",
   "nbconvert_exporter": "python",
   "pygments_lexer": "ipython2",
   "version": "2.7.13"
  }
 },
 "nbformat": 4,
 "nbformat_minor": 2
}
