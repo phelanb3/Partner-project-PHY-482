{
 "cells": [
  {
   "cell_type": "markdown",
   "metadata": {},
   "source": [
    "Brian Phelan\n",
    "Chris Frey\n",
    "\n",
    "*16 March 2018*\n",
    "\n",
    "**HW7**"
   ]
  },
  {
   "cell_type": "markdown",
   "metadata": {},
   "source": [
    "# Problem 6:"
   ]
  },
  {
   "cell_type": "markdown",
   "metadata": {},
   "source": [
    "Team Members: Brian Phelan, Christian Frey\n",
    "\n",
    "Modeling a charged a particle(s) emitting synchrotron radiation in in a circular path and finding time before it’s path degrades and collapses into the center. Maybe this is too narrow of a focus. \n",
    "\n",
    "Area: This would involve using electromagnetism relativistically, as well as the use of the lorentz force.\n",
    "\n",
    "Source material: Reviews of Synchrotron radiation, computational models of particle accelerators.\n",
    "\n",
    "What has been done already: This is probably a solved problem but we want to try and do our own computational analysis. "
   ]
  }
 ],
 "metadata": {
  "kernelspec": {
   "display_name": "Python 2",
   "language": "python",
   "name": "python2"
  },
  "language_info": {
   "codemirror_mode": {
    "name": "ipython",
    "version": 2
   },
   "file_extension": ".py",
   "mimetype": "text/x-python",
   "name": "python",
   "nbconvert_exporter": "python",
   "pygments_lexer": "ipython2",
   "version": "2.7.13"
  }
 },
 "nbformat": 4,
 "nbformat_minor": 2
}
