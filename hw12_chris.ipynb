{
 "cells": [
  {
   "cell_type": "markdown",
   "metadata": {},
   "source": [
    "Chris Frey\n",
    "\n",
    "April 20\n",
    "\n",
    "Problem 5\n",
    "\n",
    "I think Brian's answer to this question is a very good one, as I think our main fear is that we are not going to have enough original content (though this may be unfounded?). What aspect of synchrotron radiation could be added that is doable computationally but may also show interesting results for the audience (In a project like this it is important to take them into account). "
   ]
  },
  {
   "cell_type": "code",
   "execution_count": null,
   "metadata": {
    "collapsed": true
   },
   "outputs": [],
   "source": []
  }
 ],
 "metadata": {
  "kernelspec": {
   "display_name": "Python 3",
   "language": "python",
   "name": "python3"
  },
  "language_info": {
   "codemirror_mode": {
    "name": "ipython",
    "version": 3
   },
   "file_extension": ".py",
   "mimetype": "text/x-python",
   "name": "python",
   "nbconvert_exporter": "python",
   "pygments_lexer": "ipython3",
   "version": "3.6.1"
  }
 },
 "nbformat": 4,
 "nbformat_minor": 2
}
